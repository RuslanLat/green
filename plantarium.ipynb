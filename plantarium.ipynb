{
 "cells": [
  {
   "cell_type": "code",
   "execution_count": 91,
   "metadata": {},
   "outputs": [],
   "source": [
    "# импортируем необходимые библиотеки\n",
    "import pandas as pd\n",
    "import numpy as np\n",
    "import requests\n",
    "import sqlite3\n",
    "import csv\n",
    "from bs4 import BeautifulSoup"
   ]
  },
  {
   "attachments": {},
   "cell_type": "markdown",
   "metadata": {},
   "source": [
    "### Создание базы данных"
   ]
  },
  {
   "cell_type": "code",
   "execution_count": 97,
   "metadata": {},
   "outputs": [
    {
     "name": "stdout",
     "output_type": "stream",
     "text": [
      "База данных создана и успешно подключена к SQLite\n"
     ]
    }
   ],
   "source": [
    "# подключение к базе данных (в случае отсутствия база данных создается)\n",
    "connection = sqlite3.connect(\"data/plantarium.db\")\n",
    "# создание объекта подключения\n",
    "cursor = connection.cursor()\n",
    "print(\"База данных создана и успешно подключена к SQLite\")"
   ]
  },
  {
   "cell_type": "code",
   "execution_count": 99,
   "metadata": {},
   "outputs": [],
   "source": [
    "# закрытие соединения с базой данных\n",
    "#connection.close()"
   ]
  },
  {
   "cell_type": "code",
   "execution_count": 98,
   "metadata": {},
   "outputs": [
    {
     "name": "stdout",
     "output_type": "stream",
     "text": [
      "Версия базы данных SQLite:  [('3.40.1',)]\n"
     ]
    }
   ],
   "source": [
    "# вывод версии базы данных\n",
    "sqlite_select_query = \"select sqlite_version();\"\n",
    "cursor.execute(sqlite_select_query)\n",
    "record = cursor.fetchall()\n",
    "print(\"Версия базы данных SQLite: \", record)"
   ]
  },
  {
   "attachments": {},
   "cell_type": "markdown",
   "metadata": {},
   "source": [
    "### Красные книги (парсинг данных)\n",
    "\n",
    "[Списки охраняемых видов растений и лишайников](\"https://www.plantarium.ru/page/redbooks.htmlhttp://www.oopt.aari.ru/rbdata#box%D0%A7\")"
   ]
  },
  {
   "cell_type": "code",
   "execution_count": 100,
   "metadata": {},
   "outputs": [],
   "source": [
    "# адрес сайта\n",
    "url = \"https://www.plantarium.ru/page/redbooks.htmlhttp://www.oopt.aari.ru/rbdata\""
   ]
  },
  {
   "cell_type": "code",
   "execution_count": 101,
   "metadata": {},
   "outputs": [],
   "source": [
    "# парсинг списка региональных Красных книг\n",
    "table_books = pd.read_html(url)"
   ]
  },
  {
   "cell_type": "code",
   "execution_count": 102,
   "metadata": {},
   "outputs": [
    {
     "data": {
      "text/plain": [
       "3"
      ]
     },
     "execution_count": 102,
     "metadata": {},
     "output_type": "execute_result"
    }
   ],
   "source": [
    "# количество распознаных таблиц\n",
    "len(table_books)"
   ]
  },
  {
   "cell_type": "code",
   "execution_count": 103,
   "metadata": {},
   "outputs": [
    {
     "data": {
      "text/html": [
       "<div>\n",
       "<style scoped>\n",
       "    .dataframe tbody tr th:only-of-type {\n",
       "        vertical-align: middle;\n",
       "    }\n",
       "\n",
       "    .dataframe tbody tr th {\n",
       "        vertical-align: top;\n",
       "    }\n",
       "\n",
       "    .dataframe thead th {\n",
       "        text-align: right;\n",
       "    }\n",
       "</style>\n",
       "<table border=\"1\" class=\"dataframe\">\n",
       "  <thead>\n",
       "    <tr style=\"text-align: right;\">\n",
       "      <th></th>\n",
       "      <th>Unnamed: 0</th>\n",
       "      <th>Регион</th>\n",
       "      <th>Год</th>\n",
       "      <th>Таксоны</th>\n",
       "      <th>Источник</th>\n",
       "      <th>Веб-сайт</th>\n",
       "      <th>Редакторы</th>\n",
       "    </tr>\n",
       "  </thead>\n",
       "  <tbody>\n",
       "    <tr>\n",
       "      <th>0</th>\n",
       "      <td>А</td>\n",
       "      <td>А</td>\n",
       "      <td>А</td>\n",
       "      <td>А</td>\n",
       "      <td>А</td>\n",
       "      <td>А</td>\n",
       "      <td>А</td>\n",
       "    </tr>\n",
       "    <tr>\n",
       "      <th>1</th>\n",
       "      <td>1.</td>\n",
       "      <td>Республика Адыгея</td>\n",
       "      <td>2011</td>\n",
       "      <td>169</td>\n",
       "      <td>Постановление от 11 октября 2011 г. № 204 о по...</td>\n",
       "      <td>oopt.aari.ru, herba.msu.ru</td>\n",
       "      <td>Наталья Гамова</td>\n",
       "    </tr>\n",
       "    <tr>\n",
       "      <th>2</th>\n",
       "      <td>2.</td>\n",
       "      <td>Республика Адыгея</td>\n",
       "      <td>2021</td>\n",
       "      <td>200</td>\n",
       "      <td>NaN</td>\n",
       "      <td>docs.cntd.ru</td>\n",
       "      <td>Дмитрий Орешкин</td>\n",
       "    </tr>\n",
       "    <tr>\n",
       "      <th>3</th>\n",
       "      <td>3.</td>\n",
       "      <td>Азербайджанская Республика</td>\n",
       "      <td>NaN</td>\n",
       "      <td>138</td>\n",
       "      <td>NaN</td>\n",
       "      <td>–</td>\n",
       "      <td>Николай Дегтярёв</td>\n",
       "    </tr>\n",
       "    <tr>\n",
       "      <th>4</th>\n",
       "      <td>4.</td>\n",
       "      <td>Республика Алтай</td>\n",
       "      <td>2007</td>\n",
       "      <td>154</td>\n",
       "      <td>Красная книга Республики Алтай (растения). Гор...</td>\n",
       "      <td>oopt.aari.ru</td>\n",
       "      <td>Юрий Пирогов, Наталья Гамова</td>\n",
       "    </tr>\n",
       "  </tbody>\n",
       "</table>\n",
       "</div>"
      ],
      "text/plain": [
       "  Unnamed: 0                      Регион   Год Таксоны   \n",
       "0          А                           А     А       А  \\\n",
       "1         1.           Республика Адыгея  2011     169   \n",
       "2         2.           Республика Адыгея  2021     200   \n",
       "3         3.  Азербайджанская Республика   NaN     138   \n",
       "4         4.            Республика Алтай  2007     154   \n",
       "\n",
       "                                            Источник   \n",
       "0                                                  А  \\\n",
       "1  Постановление от 11 октября 2011 г. № 204 о по...   \n",
       "2                                                NaN   \n",
       "3                                                NaN   \n",
       "4  Красная книга Республики Алтай (растения). Гор...   \n",
       "\n",
       "                     Веб-сайт                     Редакторы  \n",
       "0                           А                             А  \n",
       "1  oopt.aari.ru, herba.msu.ru                Наталья Гамова  \n",
       "2                docs.cntd.ru               Дмитрий Орешкин  \n",
       "3                           –              Николай Дегтярёв  \n",
       "4                oopt.aari.ru  Юрий Пирогов, Наталья Гамова  "
      ]
     },
     "execution_count": 103,
     "metadata": {},
     "output_type": "execute_result"
    }
   ],
   "source": [
    "# выборка релевантной таблицы\n",
    "table_book = table_books[1]\n",
    "table_book.head()"
   ]
  },
  {
   "cell_type": "code",
   "execution_count": 104,
   "metadata": {},
   "outputs": [],
   "source": [
    "# подсчет длины наименования региона\n",
    "table_book[\"region_name_len\"] = table_book[\"Регион\"].map(len)"
   ]
  },
  {
   "cell_type": "code",
   "execution_count": 105,
   "metadata": {},
   "outputs": [
    {
     "data": {
      "text/html": [
       "<div>\n",
       "<style scoped>\n",
       "    .dataframe tbody tr th:only-of-type {\n",
       "        vertical-align: middle;\n",
       "    }\n",
       "\n",
       "    .dataframe tbody tr th {\n",
       "        vertical-align: top;\n",
       "    }\n",
       "\n",
       "    .dataframe thead th {\n",
       "        text-align: right;\n",
       "    }\n",
       "</style>\n",
       "<table border=\"1\" class=\"dataframe\">\n",
       "  <thead>\n",
       "    <tr style=\"text-align: right;\">\n",
       "      <th></th>\n",
       "      <th>Unnamed: 0</th>\n",
       "      <th>Регион</th>\n",
       "      <th>Год</th>\n",
       "      <th>Таксоны</th>\n",
       "      <th>Источник</th>\n",
       "      <th>Веб-сайт</th>\n",
       "      <th>Редакторы</th>\n",
       "      <th>region_name_len</th>\n",
       "    </tr>\n",
       "  </thead>\n",
       "  <tbody>\n",
       "    <tr>\n",
       "      <th>1</th>\n",
       "      <td>1.</td>\n",
       "      <td>Республика Адыгея</td>\n",
       "      <td>2011</td>\n",
       "      <td>169</td>\n",
       "      <td>Постановление от 11 октября 2011 г. № 204 о по...</td>\n",
       "      <td>oopt.aari.ru, herba.msu.ru</td>\n",
       "      <td>Наталья Гамова</td>\n",
       "      <td>17</td>\n",
       "    </tr>\n",
       "    <tr>\n",
       "      <th>2</th>\n",
       "      <td>2.</td>\n",
       "      <td>Республика Адыгея</td>\n",
       "      <td>2021</td>\n",
       "      <td>200</td>\n",
       "      <td>NaN</td>\n",
       "      <td>docs.cntd.ru</td>\n",
       "      <td>Дмитрий Орешкин</td>\n",
       "      <td>17</td>\n",
       "    </tr>\n",
       "    <tr>\n",
       "      <th>3</th>\n",
       "      <td>3.</td>\n",
       "      <td>Азербайджанская Республика</td>\n",
       "      <td>NaN</td>\n",
       "      <td>138</td>\n",
       "      <td>NaN</td>\n",
       "      <td>–</td>\n",
       "      <td>Николай Дегтярёв</td>\n",
       "      <td>26</td>\n",
       "    </tr>\n",
       "    <tr>\n",
       "      <th>4</th>\n",
       "      <td>4.</td>\n",
       "      <td>Республика Алтай</td>\n",
       "      <td>2007</td>\n",
       "      <td>154</td>\n",
       "      <td>Красная книга Республики Алтай (растения). Гор...</td>\n",
       "      <td>oopt.aari.ru</td>\n",
       "      <td>Юрий Пирогов, Наталья Гамова</td>\n",
       "      <td>16</td>\n",
       "    </tr>\n",
       "    <tr>\n",
       "      <th>5</th>\n",
       "      <td>5.</td>\n",
       "      <td>Республика Алтай</td>\n",
       "      <td>2017</td>\n",
       "      <td>155</td>\n",
       "      <td>Красная книга Республики Алтай (растения). Гор...</td>\n",
       "      <td>herba.msu.ru</td>\n",
       "      <td>Наталья Гамова</td>\n",
       "      <td>16</td>\n",
       "    </tr>\n",
       "  </tbody>\n",
       "</table>\n",
       "</div>"
      ],
      "text/plain": [
       "  Unnamed: 0                      Регион   Год Таксоны   \n",
       "1         1.           Республика Адыгея  2011     169  \\\n",
       "2         2.           Республика Адыгея  2021     200   \n",
       "3         3.  Азербайджанская Республика   NaN     138   \n",
       "4         4.            Республика Алтай  2007     154   \n",
       "5         5.            Республика Алтай  2017     155   \n",
       "\n",
       "                                            Источник   \n",
       "1  Постановление от 11 октября 2011 г. № 204 о по...  \\\n",
       "2                                                NaN   \n",
       "3                                                NaN   \n",
       "4  Красная книга Республики Алтай (растения). Гор...   \n",
       "5  Красная книга Республики Алтай (растения). Гор...   \n",
       "\n",
       "                     Веб-сайт                     Редакторы  region_name_len  \n",
       "1  oopt.aari.ru, herba.msu.ru                Наталья Гамова               17  \n",
       "2                docs.cntd.ru               Дмитрий Орешкин               17  \n",
       "3                           –              Николай Дегтярёв               26  \n",
       "4                oopt.aari.ru  Юрий Пирогов, Наталья Гамова               16  \n",
       "5                herba.msu.ru                Наталья Гамова               16  "
      ]
     },
     "execution_count": 105,
     "metadata": {},
     "output_type": "execute_result"
    }
   ],
   "source": [
    "# исключение алфавитного указателя\n",
    "table_book = table_book.query(\"region_name_len > 1\")\n",
    "table_book.head()"
   ]
  },
  {
   "cell_type": "code",
   "execution_count": 106,
   "metadata": {},
   "outputs": [
    {
     "data": {
      "text/plain": [
       "143"
      ]
     },
     "execution_count": 106,
     "metadata": {},
     "output_type": "execute_result"
    }
   ],
   "source": [
    "# количество уникальных наименований регионов\n",
    "table_book[\"Регион\"].nunique()"
   ]
  },
  {
   "cell_type": "code",
   "execution_count": 107,
   "metadata": {},
   "outputs": [
    {
     "data": {
      "text/plain": [
       "array(['Республика Адыгея', 'Азербайджанская Республика',\n",
       "       'Республика Алтай', 'Алтайский край', 'Амурская область',\n",
       "       'Республика Армения', 'Архангельская область',\n",
       "       'Астраханская область', 'Балтийский регион (в\\xa0работе)',\n",
       "       'Республика Башкортостан'], dtype=object)"
      ]
     },
     "execution_count": 107,
     "metadata": {},
     "output_type": "execute_result"
    }
   ],
   "source": [
    "# наименование уникальных регионов\n",
    "table_book.query(\"region_name_len > 1\")[\"Регион\"].unique()[:10]"
   ]
  },
  {
   "cell_type": "code",
   "execution_count": 108,
   "metadata": {},
   "outputs": [
    {
     "data": {
      "text/plain": [
       "(253, 8)"
      ]
     },
     "execution_count": 108,
     "metadata": {},
     "output_type": "execute_result"
    }
   ],
   "source": [
    "# размерность данных\n",
    "table_book.shape"
   ]
  },
  {
   "cell_type": "code",
   "execution_count": 109,
   "metadata": {},
   "outputs": [
    {
     "data": {
      "text/html": [
       "<div>\n",
       "<style scoped>\n",
       "    .dataframe tbody tr th:only-of-type {\n",
       "        vertical-align: middle;\n",
       "    }\n",
       "\n",
       "    .dataframe tbody tr th {\n",
       "        vertical-align: top;\n",
       "    }\n",
       "\n",
       "    .dataframe thead th {\n",
       "        text-align: right;\n",
       "    }\n",
       "</style>\n",
       "<table border=\"1\" class=\"dataframe\">\n",
       "  <thead>\n",
       "    <tr style=\"text-align: right;\">\n",
       "      <th></th>\n",
       "      <th>Unnamed: 0</th>\n",
       "      <th>Регион</th>\n",
       "      <th>Год</th>\n",
       "      <th>Таксоны</th>\n",
       "      <th>Источник</th>\n",
       "      <th>Веб-сайт</th>\n",
       "      <th>Редакторы</th>\n",
       "      <th>region_name_len</th>\n",
       "    </tr>\n",
       "  </thead>\n",
       "  <tbody>\n",
       "    <tr>\n",
       "      <th>1</th>\n",
       "      <td>1.</td>\n",
       "      <td>Республика Адыгея</td>\n",
       "      <td>2011</td>\n",
       "      <td>169</td>\n",
       "      <td>Постановление от 11 октября 2011 г. № 204 о по...</td>\n",
       "      <td>oopt.aari.ru, herba.msu.ru</td>\n",
       "      <td>Наталья Гамова</td>\n",
       "      <td>17</td>\n",
       "    </tr>\n",
       "    <tr>\n",
       "      <th>2</th>\n",
       "      <td>2.</td>\n",
       "      <td>Республика Адыгея</td>\n",
       "      <td>2021</td>\n",
       "      <td>200</td>\n",
       "      <td>NaN</td>\n",
       "      <td>docs.cntd.ru</td>\n",
       "      <td>Дмитрий Орешкин</td>\n",
       "      <td>17</td>\n",
       "    </tr>\n",
       "    <tr>\n",
       "      <th>3</th>\n",
       "      <td>3.</td>\n",
       "      <td>Азербайджанская Республика</td>\n",
       "      <td>NaN</td>\n",
       "      <td>138</td>\n",
       "      <td>NaN</td>\n",
       "      <td>–</td>\n",
       "      <td>Николай Дегтярёв</td>\n",
       "      <td>26</td>\n",
       "    </tr>\n",
       "    <tr>\n",
       "      <th>4</th>\n",
       "      <td>4.</td>\n",
       "      <td>Республика Алтай</td>\n",
       "      <td>2007</td>\n",
       "      <td>154</td>\n",
       "      <td>Красная книга Республики Алтай (растения). Гор...</td>\n",
       "      <td>oopt.aari.ru</td>\n",
       "      <td>Юрий Пирогов, Наталья Гамова</td>\n",
       "      <td>16</td>\n",
       "    </tr>\n",
       "    <tr>\n",
       "      <th>5</th>\n",
       "      <td>5.</td>\n",
       "      <td>Республика Алтай</td>\n",
       "      <td>2017</td>\n",
       "      <td>155</td>\n",
       "      <td>Красная книга Республики Алтай (растения). Гор...</td>\n",
       "      <td>herba.msu.ru</td>\n",
       "      <td>Наталья Гамова</td>\n",
       "      <td>16</td>\n",
       "    </tr>\n",
       "  </tbody>\n",
       "</table>\n",
       "</div>"
      ],
      "text/plain": [
       "  Unnamed: 0                      Регион   Год Таксоны   \n",
       "1         1.           Республика Адыгея  2011     169  \\\n",
       "2         2.           Республика Адыгея  2021     200   \n",
       "3         3.  Азербайджанская Республика   NaN     138   \n",
       "4         4.            Республика Алтай  2007     154   \n",
       "5         5.            Республика Алтай  2017     155   \n",
       "\n",
       "                                            Источник   \n",
       "1  Постановление от 11 октября 2011 г. № 204 о по...  \\\n",
       "2                                                NaN   \n",
       "3                                                NaN   \n",
       "4  Красная книга Республики Алтай (растения). Гор...   \n",
       "5  Красная книга Республики Алтай (растения). Гор...   \n",
       "\n",
       "                     Веб-сайт                     Редакторы  region_name_len  \n",
       "1  oopt.aari.ru, herba.msu.ru                Наталья Гамова               17  \n",
       "2                docs.cntd.ru               Дмитрий Орешкин               17  \n",
       "3                           –              Николай Дегтярёв               26  \n",
       "4                oopt.aari.ru  Юрий Пирогов, Наталья Гамова               16  \n",
       "5                herba.msu.ru                Наталья Гамова               16  "
      ]
     },
     "execution_count": 109,
     "metadata": {},
     "output_type": "execute_result"
    }
   ],
   "source": [
    "# вывод данных\n",
    "table_book.head()"
   ]
  },
  {
   "attachments": {},
   "cell_type": "markdown",
   "metadata": {},
   "source": [
    "### Создание таблицы \"Справочник регионы\"\n",
    "\n",
    "* region_id - id наименования региона\n",
    "* region_name - наименование региона"
   ]
  },
  {
   "cell_type": "code",
   "execution_count": 111,
   "metadata": {},
   "outputs": [],
   "source": [
    "# создание таблицы regions\n",
    "cursor.execute(\"\"\"CREATE TABLE IF NOT EXISTS regions(\n",
    "                  region_id INTEGER PRIMARY KEY,\n",
    "                  region_name TEXT UNIQUE);\"\"\")\n",
    "connection.commit()"
   ]
  },
  {
   "cell_type": "code",
   "execution_count": 112,
   "metadata": {},
   "outputs": [],
   "source": [
    "# удаление таблицы\n",
    "#cursor.execute(\"DROP TABLE regions\")\n",
    "#connection.commit()"
   ]
  },
  {
   "cell_type": "code",
   "execution_count": 113,
   "metadata": {},
   "outputs": [
    {
     "data": {
      "text/plain": [
       "['Республика Адыгея',\n",
       " 'Азербайджанская Республика',\n",
       " 'Республика Алтай',\n",
       " 'Алтайский край',\n",
       " 'Амурская область']"
      ]
     },
     "execution_count": 113,
     "metadata": {},
     "output_type": "execute_result"
    }
   ],
   "source": [
    "# наименование уникальных регионов\n",
    "region_names = table_book.query(\"region_name_len > 1\")[\"Регион\"].unique().tolist()\n",
    "region_names[:5]"
   ]
  },
  {
   "cell_type": "code",
   "execution_count": 114,
   "metadata": {},
   "outputs": [
    {
     "data": {
      "text/plain": [
       "[('Республика Адыгея',),\n",
       " ('Азербайджанская Республика',),\n",
       " ('Республика Алтай',),\n",
       " ('Алтайский край',),\n",
       " ('Амурская область',)]"
      ]
     },
     "execution_count": 114,
     "metadata": {},
     "output_type": "execute_result"
    }
   ],
   "source": [
    "# преобразование для записи в базу данных\n",
    "region_names = [(region, ) for region in region_names]\n",
    "region_names[:5]"
   ]
  },
  {
   "cell_type": "code",
   "execution_count": 115,
   "metadata": {},
   "outputs": [],
   "source": [
    "# запись в базу данных\n",
    "cursor.executemany(\"\"\"INSERT INTO regions (region_name)\n",
    "                      VALUES(?);\"\"\", region_names) \n",
    "connection.commit()"
   ]
  },
  {
   "cell_type": "code",
   "execution_count": 116,
   "metadata": {},
   "outputs": [
    {
     "data": {
      "text/plain": [
       "(143, 143)"
      ]
     },
     "execution_count": 116,
     "metadata": {},
     "output_type": "execute_result"
    }
   ],
   "source": [
    "# проверка внесения записи\n",
    "cursor.execute(\"\"\"SELECT COUNT(*)\n",
    "                  FROM regions;\"\"\")\n",
    "cursor.fetchone()[0], len(region_names)"
   ]
  },
  {
   "attachments": {},
   "cell_type": "markdown",
   "metadata": {},
   "source": [
    "Данные записаны **успешно**"
   ]
  },
  {
   "cell_type": "code",
   "execution_count": 117,
   "metadata": {},
   "outputs": [
    {
     "data": {
      "text/plain": [
       "'https://www.plantarium.ru/page/redbooks.htmlhttp://www.oopt.aari.ru/rbdata'"
      ]
     },
     "execution_count": 117,
     "metadata": {},
     "output_type": "execute_result"
    }
   ],
   "source": [
    "# адрес сайта\n",
    "url"
   ]
  },
  {
   "cell_type": "code",
   "execution_count": 118,
   "metadata": {},
   "outputs": [
    {
     "data": {
      "text/plain": [
       "<Response [200]>"
      ]
     },
     "execution_count": 118,
     "metadata": {},
     "output_type": "execute_result"
    }
   ],
   "source": [
    "# парсинг данных с сайта\n",
    "r = requests.get(url)\n",
    "r"
   ]
  },
  {
   "cell_type": "code",
   "execution_count": 119,
   "metadata": {},
   "outputs": [],
   "source": [
    "# извлечение разметки страницы\n",
    "soup = BeautifulSoup(r.text, 'html.parser')"
   ]
  },
  {
   "cell_type": "code",
   "execution_count": 120,
   "metadata": {},
   "outputs": [],
   "source": [
    "# париснг всех тэгов \"a\"\n",
    "list_table = soup.find(\"table\", {\"class\" : \"list-table\"}).find_all(\"a\")"
   ]
  },
  {
   "cell_type": "code",
   "execution_count": 121,
   "metadata": {},
   "outputs": [],
   "source": [
    "# выборка релевантных ссылок\n",
    "list_table = [row.get(\"href\") for row in list_table if row.get(\"title\") == \"Смотреть перечень таксонов\"]"
   ]
  },
  {
   "cell_type": "code",
   "execution_count": 122,
   "metadata": {},
   "outputs": [
    {
     "data": {
      "text/plain": [
       "((253, 8), 253)"
      ]
     },
     "execution_count": 122,
     "metadata": {},
     "output_type": "execute_result"
    }
   ],
   "source": [
    "# сопоставления данных\n",
    "table_book.shape, len(list_table)"
   ]
  },
  {
   "cell_type": "code",
   "execution_count": 123,
   "metadata": {},
   "outputs": [
    {
     "name": "stderr",
     "output_type": "stream",
     "text": [
      "C:\\Users\\rus_k\\AppData\\Local\\Temp\\ipykernel_10912\\3992731171.py:2: SettingWithCopyWarning: \n",
      "A value is trying to be set on a copy of a slice from a DataFrame.\n",
      "Try using .loc[row_indexer,col_indexer] = value instead\n",
      "\n",
      "See the caveats in the documentation: https://pandas.pydata.org/pandas-docs/stable/user_guide/indexing.html#returning-a-view-versus-a-copy\n",
      "  table_book[\"href\"] = list_table\n"
     ]
    }
   ],
   "source": [
    "# добавление признака в данные\n",
    "table_book[\"href\"] = list_table"
   ]
  },
  {
   "attachments": {},
   "cell_type": "markdown",
   "metadata": {},
   "source": [
    "Ссылки собраны **успешно**"
   ]
  },
  {
   "attachments": {},
   "cell_type": "markdown",
   "metadata": {},
   "source": [
    "### Создание таблицы \"Справочник книги\"\n",
    "\n",
    "* book_id - id книги\n",
    "* book_name - наименование книги (источник)\n",
    "* book_year - год книги\n",
    "* book_web - веб сайт книги\n",
    "* book_href - ссылка на содержание книги\n",
    "* region_id - id наименования региона"
   ]
  },
  {
   "cell_type": "code",
   "execution_count": 124,
   "metadata": {},
   "outputs": [
    {
     "data": {
      "text/plain": [
       "Index(['Unnamed: 0', 'Регион', 'Год', 'Таксоны', 'Источник', 'Веб-сайт',\n",
       "       'Редакторы', 'region_name_len', 'href'],\n",
       "      dtype='object')"
      ]
     },
     "execution_count": 124,
     "metadata": {},
     "output_type": "execute_result"
    }
   ],
   "source": [
    "# наименование признаков данных\n",
    "table_book.columns"
   ]
  },
  {
   "cell_type": "code",
   "execution_count": 125,
   "metadata": {},
   "outputs": [],
   "source": [
    "# признаки для записи в базу данных\n",
    "col_names = [\"Регион\", \"Год\", \"Источник\", \"Веб-сайт\", \"href\"]"
   ]
  },
  {
   "cell_type": "code",
   "execution_count": 126,
   "metadata": {},
   "outputs": [
    {
     "data": {
      "text/html": [
       "<div>\n",
       "<style scoped>\n",
       "    .dataframe tbody tr th:only-of-type {\n",
       "        vertical-align: middle;\n",
       "    }\n",
       "\n",
       "    .dataframe tbody tr th {\n",
       "        vertical-align: top;\n",
       "    }\n",
       "\n",
       "    .dataframe thead th {\n",
       "        text-align: right;\n",
       "    }\n",
       "</style>\n",
       "<table border=\"1\" class=\"dataframe\">\n",
       "  <thead>\n",
       "    <tr style=\"text-align: right;\">\n",
       "      <th></th>\n",
       "      <th>Регион</th>\n",
       "      <th>Год</th>\n",
       "      <th>Источник</th>\n",
       "      <th>Веб-сайт</th>\n",
       "      <th>href</th>\n",
       "    </tr>\n",
       "  </thead>\n",
       "  <tbody>\n",
       "    <tr>\n",
       "      <th>1</th>\n",
       "      <td>Республика Адыгея</td>\n",
       "      <td>2011</td>\n",
       "      <td>Постановление от 11 октября 2011 г. № 204 о по...</td>\n",
       "      <td>oopt.aari.ru, herba.msu.ru</td>\n",
       "      <td>/page/redbook/id/113.html</td>\n",
       "    </tr>\n",
       "    <tr>\n",
       "      <th>2</th>\n",
       "      <td>Республика Адыгея</td>\n",
       "      <td>2021</td>\n",
       "      <td>NaN</td>\n",
       "      <td>docs.cntd.ru</td>\n",
       "      <td>/page/redbook/id/322.html</td>\n",
       "    </tr>\n",
       "    <tr>\n",
       "      <th>3</th>\n",
       "      <td>Азербайджанская Республика</td>\n",
       "      <td>NaN</td>\n",
       "      <td>NaN</td>\n",
       "      <td>–</td>\n",
       "      <td>/page/redbook/id/58.html</td>\n",
       "    </tr>\n",
       "    <tr>\n",
       "      <th>4</th>\n",
       "      <td>Республика Алтай</td>\n",
       "      <td>2007</td>\n",
       "      <td>Красная книга Республики Алтай (растения). Гор...</td>\n",
       "      <td>oopt.aari.ru</td>\n",
       "      <td>/page/redbook/id/65.html</td>\n",
       "    </tr>\n",
       "    <tr>\n",
       "      <th>5</th>\n",
       "      <td>Республика Алтай</td>\n",
       "      <td>2017</td>\n",
       "      <td>Красная книга Республики Алтай (растения). Гор...</td>\n",
       "      <td>herba.msu.ru</td>\n",
       "      <td>/page/redbook/id/271.html</td>\n",
       "    </tr>\n",
       "  </tbody>\n",
       "</table>\n",
       "</div>"
      ],
      "text/plain": [
       "                       Регион   Год   \n",
       "1           Республика Адыгея  2011  \\\n",
       "2           Республика Адыгея  2021   \n",
       "3  Азербайджанская Республика   NaN   \n",
       "4            Республика Алтай  2007   \n",
       "5            Республика Алтай  2017   \n",
       "\n",
       "                                            Источник   \n",
       "1  Постановление от 11 октября 2011 г. № 204 о по...  \\\n",
       "2                                                NaN   \n",
       "3                                                NaN   \n",
       "4  Красная книга Республики Алтай (растения). Гор...   \n",
       "5  Красная книга Республики Алтай (растения). Гор...   \n",
       "\n",
       "                     Веб-сайт                       href  \n",
       "1  oopt.aari.ru, herba.msu.ru  /page/redbook/id/113.html  \n",
       "2                docs.cntd.ru  /page/redbook/id/322.html  \n",
       "3                           –   /page/redbook/id/58.html  \n",
       "4                oopt.aari.ru   /page/redbook/id/65.html  \n",
       "5                herba.msu.ru  /page/redbook/id/271.html  "
      ]
     },
     "execution_count": 126,
     "metadata": {},
     "output_type": "execute_result"
    }
   ],
   "source": [
    "# вывод данных\n",
    "table_book[col_names].head()"
   ]
  },
  {
   "cell_type": "code",
   "execution_count": 127,
   "metadata": {},
   "outputs": [],
   "source": [
    "# получение id наименования региона из базы данных\n",
    "def select_region_id(region_name: str) -> int:\n",
    "\n",
    "    \"\"\" функия получения region_id по соответствуюшему region_name\"\"\"\n",
    "\n",
    "    cursor.execute(\"\"\"SELECT region_id\n",
    "                    FROM regions\n",
    "                    WHERE region_name == ?;\"\"\", (region_name,))\n",
    "    \n",
    "    return cursor.fetchone()[0]"
   ]
  },
  {
   "cell_type": "code",
   "execution_count": 128,
   "metadata": {},
   "outputs": [
    {
     "data": {
      "text/plain": [
       "3"
      ]
     },
     "execution_count": 128,
     "metadata": {},
     "output_type": "execute_result"
    }
   ],
   "source": [
    "# тест функции select_region_id\n",
    "select_region_id(\"Республика Алтай\")"
   ]
  },
  {
   "cell_type": "code",
   "execution_count": 129,
   "metadata": {},
   "outputs": [
    {
     "data": {
      "text/plain": [
       "Регион       0\n",
       "Год          3\n",
       "Источник    14\n",
       "Веб-сайт     0\n",
       "href         0\n",
       "dtype: int64"
      ]
     },
     "execution_count": 129,
     "metadata": {},
     "output_type": "execute_result"
    }
   ],
   "source": [
    "# проверка на наличие пропусков\n",
    "table_book[col_names].isna().sum()"
   ]
  },
  {
   "cell_type": "code",
   "execution_count": 132,
   "metadata": {},
   "outputs": [],
   "source": [
    "# создание таблицы books\n",
    "cursor.execute(\"\"\"CREATE TABLE IF NOT EXISTS books(\n",
    "                  book_id INTEGER PRIMARY KEY,\n",
    "                  book_name TEXT,\n",
    "                  book_year TEXT,\n",
    "                  book_web TEXT,\n",
    "                  book_href TEXT NOT NULL,\n",
    "                  region_id INTEGER);\"\"\")\n",
    "connection.commit()"
   ]
  },
  {
   "cell_type": "code",
   "execution_count": 131,
   "metadata": {},
   "outputs": [],
   "source": [
    "# удаление таблицы\n",
    "#cursor.execute(\"DROP TABLE books\")\n",
    "#connection.commit()"
   ]
  },
  {
   "cell_type": "code",
   "execution_count": 133,
   "metadata": {},
   "outputs": [],
   "source": [
    "# запись в базу данных\n",
    "def insetr_books(book_name:str, book_year:str, book_web:str, book_href:str, region_id:int) -> None:\n",
    "\n",
    "    \"\"\" функция записи данных по книге в базу данных\"\"\"\n",
    "\n",
    "    cursor.execute(\"\"\"INSERT INTO books (book_name, book_year, book_web, book_href, region_id)\n",
    "                      VALUES(?, ?, ?, ?, ?);\"\"\", (book_name, book_year, book_web, book_href, region_id,)) \n",
    "    connection.commit()"
   ]
  },
  {
   "cell_type": "code",
   "execution_count": 134,
   "metadata": {},
   "outputs": [],
   "source": [
    "# запись в базу данных\n",
    "for region_name, book_year, book_name, book_web, book_href in table_book[col_names].values:\n",
    "    region_id = select_region_id(region_name)\n",
    "    insetr_books(book_name, book_year, book_web, book_href, region_id)"
   ]
  },
  {
   "cell_type": "code",
   "execution_count": 135,
   "metadata": {},
   "outputs": [
    {
     "data": {
      "text/plain": [
       "(253, 253)"
      ]
     },
     "execution_count": 135,
     "metadata": {},
     "output_type": "execute_result"
    }
   ],
   "source": [
    "# проверка внесения записи\n",
    "cursor.execute(\"\"\"SELECT COUNT(*)\n",
    "                  FROM books;\"\"\")\n",
    "cursor.fetchone()[0], len(table_book)"
   ]
  },
  {
   "cell_type": "code",
   "execution_count": 136,
   "metadata": {},
   "outputs": [
    {
     "data": {
      "text/html": [
       "<div>\n",
       "<style scoped>\n",
       "    .dataframe tbody tr th:only-of-type {\n",
       "        vertical-align: middle;\n",
       "    }\n",
       "\n",
       "    .dataframe tbody tr th {\n",
       "        vertical-align: top;\n",
       "    }\n",
       "\n",
       "    .dataframe thead th {\n",
       "        text-align: right;\n",
       "    }\n",
       "</style>\n",
       "<table border=\"1\" class=\"dataframe\">\n",
       "  <thead>\n",
       "    <tr style=\"text-align: right;\">\n",
       "      <th></th>\n",
       "      <th>book_id</th>\n",
       "      <th>book_name</th>\n",
       "      <th>book_year</th>\n",
       "      <th>book_web</th>\n",
       "      <th>book_href</th>\n",
       "      <th>region_id</th>\n",
       "    </tr>\n",
       "  </thead>\n",
       "  <tbody>\n",
       "    <tr>\n",
       "      <th>0</th>\n",
       "      <td>1</td>\n",
       "      <td>Постановление от 11 октября 2011 г. № 204 о по...</td>\n",
       "      <td>2011</td>\n",
       "      <td>oopt.aari.ru, herba.msu.ru</td>\n",
       "      <td>/page/redbook/id/113.html</td>\n",
       "      <td>1</td>\n",
       "    </tr>\n",
       "    <tr>\n",
       "      <th>1</th>\n",
       "      <td>2</td>\n",
       "      <td>None</td>\n",
       "      <td>2021</td>\n",
       "      <td>docs.cntd.ru</td>\n",
       "      <td>/page/redbook/id/322.html</td>\n",
       "      <td>1</td>\n",
       "    </tr>\n",
       "    <tr>\n",
       "      <th>2</th>\n",
       "      <td>3</td>\n",
       "      <td>None</td>\n",
       "      <td>None</td>\n",
       "      <td>–</td>\n",
       "      <td>/page/redbook/id/58.html</td>\n",
       "      <td>2</td>\n",
       "    </tr>\n",
       "    <tr>\n",
       "      <th>3</th>\n",
       "      <td>4</td>\n",
       "      <td>Красная книга Республики Алтай (растения). Гор...</td>\n",
       "      <td>2007</td>\n",
       "      <td>oopt.aari.ru</td>\n",
       "      <td>/page/redbook/id/65.html</td>\n",
       "      <td>3</td>\n",
       "    </tr>\n",
       "    <tr>\n",
       "      <th>4</th>\n",
       "      <td>5</td>\n",
       "      <td>Красная книга Республики Алтай (растения). Гор...</td>\n",
       "      <td>2017</td>\n",
       "      <td>herba.msu.ru</td>\n",
       "      <td>/page/redbook/id/271.html</td>\n",
       "      <td>3</td>\n",
       "    </tr>\n",
       "  </tbody>\n",
       "</table>\n",
       "</div>"
      ],
      "text/plain": [
       "   book_id                                          book_name book_year   \n",
       "0        1  Постановление от 11 октября 2011 г. № 204 о по...      2011  \\\n",
       "1        2                                               None      2021   \n",
       "2        3                                               None      None   \n",
       "3        4  Красная книга Республики Алтай (растения). Гор...      2007   \n",
       "4        5  Красная книга Республики Алтай (растения). Гор...      2017   \n",
       "\n",
       "                     book_web                  book_href  region_id  \n",
       "0  oopt.aari.ru, herba.msu.ru  /page/redbook/id/113.html          1  \n",
       "1                docs.cntd.ru  /page/redbook/id/322.html          1  \n",
       "2                           –   /page/redbook/id/58.html          2  \n",
       "3                oopt.aari.ru   /page/redbook/id/65.html          3  \n",
       "4                herba.msu.ru  /page/redbook/id/271.html          3  "
      ]
     },
     "execution_count": 136,
     "metadata": {},
     "output_type": "execute_result"
    }
   ],
   "source": [
    "# проверка внесения записи\n",
    "cursor.execute(\"\"\"SELECT *\n",
    "                  FROM books\n",
    "                  LIMIT 5;\"\"\")\n",
    "books_data = cursor.fetchall()\n",
    "cursor.execute(\"PRAGMA table_info('books')\")\n",
    "colnames = [name[1] for name in cursor.fetchall()]\n",
    "books_df = pd.DataFrame(data=books_data, columns=colnames)\n",
    "books_df"
   ]
  },
  {
   "attachments": {},
   "cell_type": "markdown",
   "metadata": {},
   "source": [
    "Данные записаны **успешно**"
   ]
  },
  {
   "cell_type": "code",
   "execution_count": 138,
   "metadata": {},
   "outputs": [
    {
     "data": {
      "text/plain": [
       "'/page/redbook/id/113.html'"
      ]
     },
     "execution_count": 138,
     "metadata": {},
     "output_type": "execute_result"
    }
   ],
   "source": [
    "# ссылка на страницу книги\n",
    "list_table[0]"
   ]
  },
  {
   "cell_type": "code",
   "execution_count": 139,
   "metadata": {},
   "outputs": [],
   "source": [
    "# адрес сайта\n",
    "url = \"https://www.plantarium.ru\""
   ]
  },
  {
   "cell_type": "code",
   "execution_count": 140,
   "metadata": {},
   "outputs": [],
   "source": [
    "# парсинг таблиц со сраницы книги\n",
    "plantarium = pd.read_html(url + list_table[0])"
   ]
  },
  {
   "cell_type": "code",
   "execution_count": 141,
   "metadata": {},
   "outputs": [
    {
     "data": {
      "text/plain": [
       "4"
      ]
     },
     "execution_count": 141,
     "metadata": {},
     "output_type": "execute_result"
    }
   ],
   "source": [
    "# количество таблиц\n",
    "len(plantarium)"
   ]
  },
  {
   "cell_type": "code",
   "execution_count": 142,
   "metadata": {},
   "outputs": [
    {
     "data": {
      "text/html": [
       "<div>\n",
       "<style scoped>\n",
       "    .dataframe tbody tr th:only-of-type {\n",
       "        vertical-align: middle;\n",
       "    }\n",
       "\n",
       "    .dataframe tbody tr th {\n",
       "        vertical-align: top;\n",
       "    }\n",
       "\n",
       "    .dataframe thead th {\n",
       "        text-align: right;\n",
       "    }\n",
       "</style>\n",
       "<table border=\"1\" class=\"dataframe\">\n",
       "  <thead>\n",
       "    <tr style=\"text-align: right;\">\n",
       "      <th></th>\n",
       "      <th>0</th>\n",
       "      <th>1</th>\n",
       "      <th>2</th>\n",
       "      <th>3</th>\n",
       "    </tr>\n",
       "  </thead>\n",
       "  <tbody>\n",
       "    <tr>\n",
       "      <th>0</th>\n",
       "      <td>A</td>\n",
       "      <td>A</td>\n",
       "      <td>A</td>\n",
       "      <td>A</td>\n",
       "    </tr>\n",
       "    <tr>\n",
       "      <th>1</th>\n",
       "      <td>1.</td>\n",
       "      <td>NaN</td>\n",
       "      <td>Alopecurus tiflisiensis (G. Westb.) Grossh.</td>\n",
       "      <td>Лисохвост тифлисский</td>\n",
       "    </tr>\n",
       "    <tr>\n",
       "      <th>2</th>\n",
       "      <td>2.</td>\n",
       "      <td>NaN</td>\n",
       "      <td>Anacamptis pyramidalis (L.) Rich.</td>\n",
       "      <td>Анакамптис пирамидальный</td>\n",
       "    </tr>\n",
       "    <tr>\n",
       "      <th>3</th>\n",
       "      <td>3.</td>\n",
       "      <td>NaN</td>\n",
       "      <td>Anaptychia crinalis (Schleich.) Vězda</td>\n",
       "      <td>Анаптихия волосовидная</td>\n",
       "    </tr>\n",
       "    <tr>\n",
       "      <th>4</th>\n",
       "      <td>4.</td>\n",
       "      <td>NaN</td>\n",
       "      <td>Androsace albana Steven</td>\n",
       "      <td>Проломник албанский, Проломник азербайджанский...</td>\n",
       "    </tr>\n",
       "  </tbody>\n",
       "</table>\n",
       "</div>"
      ],
      "text/plain": [
       "    0    1                                            2   \n",
       "0   A    A                                            A  \\\n",
       "1  1.  NaN  Alopecurus tiflisiensis (G. Westb.) Grossh.   \n",
       "2  2.  NaN            Anacamptis pyramidalis (L.) Rich.   \n",
       "3  3.  NaN        Anaptychia crinalis (Schleich.) Vězda   \n",
       "4  4.  NaN                      Androsace albana Steven   \n",
       "\n",
       "                                                   3  \n",
       "0                                                  A  \n",
       "1                               Лисохвост тифлисский  \n",
       "2                           Анакамптис пирамидальный  \n",
       "3                             Анаптихия волосовидная  \n",
       "4  Проломник албанский, Проломник азербайджанский...  "
      ]
     },
     "execution_count": 142,
     "metadata": {},
     "output_type": "execute_result"
    }
   ],
   "source": [
    "# выбор релевантной таблицы\n",
    "redbook = plantarium[2]\n",
    "redbook.head()"
   ]
  },
  {
   "cell_type": "code",
   "execution_count": 143,
   "metadata": {},
   "outputs": [],
   "source": [
    "# подсчет длины наименования растения\n",
    "redbook[\"name_len\"] = redbook[2].map(len)"
   ]
  },
  {
   "cell_type": "code",
   "execution_count": 144,
   "metadata": {},
   "outputs": [],
   "source": [
    "# фильтрация алфавитного указателя\n",
    "redbook = redbook.query(\"name_len > 1\")"
   ]
  },
  {
   "cell_type": "code",
   "execution_count": 145,
   "metadata": {},
   "outputs": [
    {
     "data": {
      "text/html": [
       "<div>\n",
       "<style scoped>\n",
       "    .dataframe tbody tr th:only-of-type {\n",
       "        vertical-align: middle;\n",
       "    }\n",
       "\n",
       "    .dataframe tbody tr th {\n",
       "        vertical-align: top;\n",
       "    }\n",
       "\n",
       "    .dataframe thead th {\n",
       "        text-align: right;\n",
       "    }\n",
       "</style>\n",
       "<table border=\"1\" class=\"dataframe\">\n",
       "  <thead>\n",
       "    <tr style=\"text-align: right;\">\n",
       "      <th></th>\n",
       "      <th>2</th>\n",
       "      <th>3</th>\n",
       "    </tr>\n",
       "  </thead>\n",
       "  <tbody>\n",
       "    <tr>\n",
       "      <th>1</th>\n",
       "      <td>Alopecurus tiflisiensis (G. Westb.) Grossh.</td>\n",
       "      <td>Лисохвост тифлисский</td>\n",
       "    </tr>\n",
       "    <tr>\n",
       "      <th>2</th>\n",
       "      <td>Anacamptis pyramidalis (L.) Rich.</td>\n",
       "      <td>Анакамптис пирамидальный</td>\n",
       "    </tr>\n",
       "    <tr>\n",
       "      <th>3</th>\n",
       "      <td>Anaptychia crinalis (Schleich.) Vězda</td>\n",
       "      <td>Анаптихия волосовидная</td>\n",
       "    </tr>\n",
       "    <tr>\n",
       "      <th>4</th>\n",
       "      <td>Androsace albana Steven</td>\n",
       "      <td>Проломник албанский, Проломник азербайджанский...</td>\n",
       "    </tr>\n",
       "    <tr>\n",
       "      <th>5</th>\n",
       "      <td>Anemone blanda Schott &amp; Kotschy</td>\n",
       "      <td>Ветреница нежная, Анемоноидес нежный, Ветренич...</td>\n",
       "    </tr>\n",
       "  </tbody>\n",
       "</table>\n",
       "</div>"
      ],
      "text/plain": [
       "                                             2   \n",
       "1  Alopecurus tiflisiensis (G. Westb.) Grossh.  \\\n",
       "2            Anacamptis pyramidalis (L.) Rich.   \n",
       "3        Anaptychia crinalis (Schleich.) Vězda   \n",
       "4                      Androsace albana Steven   \n",
       "5              Anemone blanda Schott & Kotschy   \n",
       "\n",
       "                                                   3  \n",
       "1                               Лисохвост тифлисский  \n",
       "2                           Анакамптис пирамидальный  \n",
       "3                             Анаптихия волосовидная  \n",
       "4  Проломник албанский, Проломник азербайджанский...  \n",
       "5  Ветреница нежная, Анемоноидес нежный, Ветренич...  "
      ]
     },
     "execution_count": 145,
     "metadata": {},
     "output_type": "execute_result"
    }
   ],
   "source": [
    "# вывод данных\n",
    "redbook[[2, 3]].head()"
   ]
  },
  {
   "cell_type": "code",
   "execution_count": 146,
   "metadata": {},
   "outputs": [
    {
     "data": {
      "text/html": [
       "<div>\n",
       "<style scoped>\n",
       "    .dataframe tbody tr th:only-of-type {\n",
       "        vertical-align: middle;\n",
       "    }\n",
       "\n",
       "    .dataframe tbody tr th {\n",
       "        vertical-align: top;\n",
       "    }\n",
       "\n",
       "    .dataframe thead th {\n",
       "        text-align: right;\n",
       "    }\n",
       "</style>\n",
       "<table border=\"1\" class=\"dataframe\">\n",
       "  <thead>\n",
       "    <tr style=\"text-align: right;\">\n",
       "      <th></th>\n",
       "      <th>2</th>\n",
       "      <th>3</th>\n",
       "    </tr>\n",
       "  </thead>\n",
       "  <tbody>\n",
       "    <tr>\n",
       "      <th>183</th>\n",
       "      <td>Usnea florida (L.) Weber ex F. H. Wigg.</td>\n",
       "      <td>Уснея цветущая</td>\n",
       "    </tr>\n",
       "    <tr>\n",
       "      <th>185</th>\n",
       "      <td>Veronica telephiifolia Vahl</td>\n",
       "      <td>Вероника телефиелистная, Вероника телефиумолис...</td>\n",
       "    </tr>\n",
       "    <tr>\n",
       "      <th>186</th>\n",
       "      <td>Vitis sylvestris C.C. Gmel., nom. illeg.</td>\n",
       "      <td>Виноград лесной</td>\n",
       "    </tr>\n",
       "    <tr>\n",
       "      <th>188</th>\n",
       "      <td>Woodsia fragilis (Trevis.) T. Moore, nom. illeg.</td>\n",
       "      <td>Вудсия кавказская, Вудсия ломкая, Гименоцистис...</td>\n",
       "    </tr>\n",
       "    <tr>\n",
       "      <th>189</th>\n",
       "      <td>Woronowia speciosa (Albov) Juz.</td>\n",
       "      <td>Вороновия красивая, Вороновия прекрасная, Грав...</td>\n",
       "    </tr>\n",
       "  </tbody>\n",
       "</table>\n",
       "</div>"
      ],
      "text/plain": [
       "                                                    2   \n",
       "183           Usnea florida (L.) Weber ex F. H. Wigg.  \\\n",
       "185                       Veronica telephiifolia Vahl   \n",
       "186          Vitis sylvestris C.C. Gmel., nom. illeg.   \n",
       "188  Woodsia fragilis (Trevis.) T. Moore, nom. illeg.   \n",
       "189                   Woronowia speciosa (Albov) Juz.   \n",
       "\n",
       "                                                     3  \n",
       "183                                     Уснея цветущая  \n",
       "185  Вероника телефиелистная, Вероника телефиумолис...  \n",
       "186                                    Виноград лесной  \n",
       "188  Вудсия кавказская, Вудсия ломкая, Гименоцистис...  \n",
       "189  Вороновия красивая, Вороновия прекрасная, Грав...  "
      ]
     },
     "execution_count": 146,
     "metadata": {},
     "output_type": "execute_result"
    }
   ],
   "source": [
    "# вывод данных\n",
    "redbook[[2, 3]].tail()"
   ]
  },
  {
   "attachments": {},
   "cell_type": "markdown",
   "metadata": {},
   "source": [
    "### Создание таблицы \"Справочник растений RU\"\n",
    "\n",
    "* plant_ru_id - id растения\n",
    "* plant_ru_name - наименование растения"
   ]
  },
  {
   "cell_type": "code",
   "execution_count": 174,
   "metadata": {},
   "outputs": [],
   "source": [
    "# создание таблицы plant_ru\n",
    "cursor.execute(\"\"\"CREATE TABLE IF NOT EXISTS plant_ru(\n",
    "                  plant_ru_id INTEGER PRIMARY KEY,\n",
    "                  plant_ru_name TEXT UNIQUE,\n",
    "                  plant_lat_id INTEGER);\"\"\")\n",
    "connection.commit()"
   ]
  },
  {
   "cell_type": "code",
   "execution_count": 148,
   "metadata": {},
   "outputs": [],
   "source": [
    "# запись в базу данных\n",
    "def insetr_plant_ru(plant_ru_name:str, plant_lat_id:int) -> None:\n",
    "\n",
    "    \"\"\" функция записи данных по растениям \"\"\"\n",
    "\n",
    "    cursor.execute(\"\"\"INSERT INTO plant_ru (plant_ru_name, plant_lat_id)\n",
    "                      VALUES(?, ?);\"\"\", (plant_ru_name, plant_lat_id,)) \n",
    "    connection.commit()"
   ]
  },
  {
   "cell_type": "code",
   "execution_count": 149,
   "metadata": {},
   "outputs": [],
   "source": [
    "# получение id наименования растения по названию\n",
    "def select_plant_ru_id(plant_ru_name: str) -> int:\n",
    "\n",
    "    \"\"\" функия получения plant_ru_id по соответствуюшему plant_ru_name \"\"\"\n",
    "\n",
    "    cursor.execute(\"\"\"SELECT plant_ru_id\n",
    "                    FROM plant_ru\n",
    "                    WHERE plant_ru_name == ?;\"\"\", (plant_ru_name,))\n",
    "    \n",
    "    return cursor.fetchone()[0]"
   ]
  },
  {
   "cell_type": "code",
   "execution_count": 173,
   "metadata": {},
   "outputs": [],
   "source": [
    "# удаление таблицы\n",
    "#cursor.execute(\"DROP TABLE plant_ru\")\n",
    "#connection.commit()"
   ]
  },
  {
   "attachments": {},
   "cell_type": "markdown",
   "metadata": {},
   "source": [
    "### Создание таблицы \"Справочник растений LAT\"\n",
    "\n",
    "* plant_lat_id - id растения\n",
    "* plant_lat_name - наименование растения"
   ]
  },
  {
   "cell_type": "code",
   "execution_count": 171,
   "metadata": {},
   "outputs": [],
   "source": [
    "# создание таблицы plant_lat\n",
    "cursor.execute(\"\"\"CREATE TABLE IF NOT EXISTS plant_lat(\n",
    "                  plant_lat_id INTEGER PRIMARY KEY,\n",
    "                  plant_lat_name TEXT UNIQUE);\"\"\")\n",
    "connection.commit()"
   ]
  },
  {
   "cell_type": "code",
   "execution_count": 172,
   "metadata": {},
   "outputs": [],
   "source": [
    "# удаление таблицы\n",
    "#cursor.execute(\"DROP TABLE plant_lat\")\n",
    "#connection.commit()"
   ]
  },
  {
   "cell_type": "code",
   "execution_count": 151,
   "metadata": {},
   "outputs": [],
   "source": [
    "# запись в базу данных\n",
    "def insetr_plant_lat(plant_lat_name:str) -> None:\n",
    "\n",
    "    \"\"\" функция записи данных по растениям \"\"\"\n",
    "\n",
    "    cursor.execute(\"\"\"INSERT INTO plant_lat (plant_lat_name)\n",
    "                      VALUES(?);\"\"\", (plant_lat_name,))\n",
    "    connection.commit()"
   ]
  },
  {
   "cell_type": "code",
   "execution_count": 152,
   "metadata": {},
   "outputs": [],
   "source": [
    "# получение id наименования растения по названию\n",
    "def select_plant_lat_id(plant_lat_name: str) -> int:\n",
    "\n",
    "    \"\"\" функия получения plant_ru_id по соответствуюшему plant_ru_name \"\"\"\n",
    "\n",
    "    cursor.execute(\"\"\"SELECT plant_lat_id\n",
    "                    FROM plant_lat\n",
    "                    WHERE plant_lat_name == ?;\"\"\", (plant_lat_name,))\n",
    "    \n",
    "    return cursor.fetchone()[0]"
   ]
  },
  {
   "attachments": {},
   "cell_type": "markdown",
   "metadata": {},
   "source": [
    "### Создание таблицы \"Содержание книги\"\n",
    "\n",
    "* book_id - id растения\n",
    "* plant_ru_id - id растения\n",
    "* plant_lat_id - id растения"
   ]
  },
  {
   "cell_type": "code",
   "execution_count": 166,
   "metadata": {},
   "outputs": [],
   "source": [
    "# создание таблицы redbooks\n",
    "cursor.execute(\"\"\"CREATE TABLE IF NOT EXISTS redbooks(\n",
    "                  book_id INTEGER,\n",
    "                  plant_ru_id INTEGER, \n",
    "                  plant_lat_id INTEGER);\"\"\")\n",
    "connection.commit()"
   ]
  },
  {
   "cell_type": "code",
   "execution_count": 167,
   "metadata": {},
   "outputs": [],
   "source": [
    "# удаление таблицы\n",
    "#cursor.execute(\"DROP TABLE redbooks\")\n",
    "#connection.commit()"
   ]
  },
  {
   "cell_type": "code",
   "execution_count": 154,
   "metadata": {},
   "outputs": [],
   "source": [
    "# запись в базу данных\n",
    "def insetr_redbooks(book_id:int, plant_ru_id:int, plant_lat_id:int) -> None:\n",
    "\n",
    "    \"\"\" функция записи данных содержания книги по растениям \"\"\"\n",
    "\n",
    "    cursor.execute(\"\"\"INSERT INTO redbooks (book_id, plant_ru_id, plant_lat_id)\n",
    "                      VALUES(?, ?, ?);\"\"\", (book_id, plant_ru_id, plant_lat_id)) \n",
    "    connection.commit()"
   ]
  },
  {
   "cell_type": "code",
   "execution_count": 155,
   "metadata": {},
   "outputs": [],
   "source": [
    "# адрес сайта\n",
    "url = \"https://www.plantarium.ru\""
   ]
  },
  {
   "cell_type": "code",
   "execution_count": 156,
   "metadata": {},
   "outputs": [
    {
     "data": {
      "text/plain": [
       "['/page/redbook/id/113.html',\n",
       " '/page/redbook/id/322.html',\n",
       " '/page/redbook/id/58.html']"
      ]
     },
     "execution_count": 156,
     "metadata": {},
     "output_type": "execute_result"
    }
   ],
   "source": [
    "# ссылка на страницу книги\n",
    "list_table[:3]"
   ]
  },
  {
   "cell_type": "code",
   "execution_count": 157,
   "metadata": {},
   "outputs": [],
   "source": [
    "# получение book_id по href из базы данных\n",
    "def select_book_id(book_href: str) -> int:\n",
    "\n",
    "    \"\"\" функия получения book_id по соответствуюшему href\"\"\"\n",
    "\n",
    "    cursor.execute(\"\"\"SELECT book_id\n",
    "                    FROM books\n",
    "                    WHERE book_href == ?;\"\"\", (book_href,))\n",
    "    \n",
    "    return cursor.fetchone()[0]"
   ]
  },
  {
   "cell_type": "code",
   "execution_count": 158,
   "metadata": {},
   "outputs": [
    {
     "data": {
      "text/plain": [
       "3"
      ]
     },
     "execution_count": 158,
     "metadata": {},
     "output_type": "execute_result"
    }
   ],
   "source": [
    "# тест функции select_book_id\n",
    "select_book_id(\"/page/redbook/id/58.html\")"
   ]
  },
  {
   "cell_type": "code",
   "execution_count": 159,
   "metadata": {},
   "outputs": [],
   "source": [
    "# адрес сайта\n",
    "URL = \"https://www.plantarium.ru\""
   ]
  },
  {
   "cell_type": "code",
   "execution_count": 160,
   "metadata": {},
   "outputs": [],
   "source": [
    "# извлечение содержание книги\n",
    "def get_redbook(href:str) -> np.array:\n",
    "\n",
    "    \"\"\" функция извлечения содержания книги \"\"\"\n",
    "    href = URL + href\n",
    "    # парсинг таблиц со сраницы книги\n",
    "    plantarium = pd.read_html(href)\n",
    "    # выбор релевантной таблицы\n",
    "    redbook = plantarium[2]\n",
    "    # подсчет длины наименования растения\n",
    "    redbook[\"name_len\"] = redbook[2].map(len)\n",
    "    # фильтрация алфавитного указателя\n",
    "    redbook = redbook.query(\"name_len > 1\")[[2, 3]].values\n",
    "\n",
    "    return redbook"
   ]
  },
  {
   "cell_type": "code",
   "execution_count": 161,
   "metadata": {},
   "outputs": [
    {
     "data": {
      "text/plain": [
       "array([['Alopecurus tiflisiensis (G. Westb.) Grossh.',\n",
       "        'Лисохвост тифлисский'],\n",
       "       ['Anacamptis pyramidalis (L.) Rich.', 'Анакамптис пирамидальный'],\n",
       "       ['Anaptychia crinalis (Schleich.) Vězda',\n",
       "        'Анаптихия волосовидная'],\n",
       "       ['Androsace albana Steven',\n",
       "        'Проломник албанский, Проломник азербайджанский, Проломник восточнокавказский'],\n",
       "       ['Anemone blanda Schott & Kotschy',\n",
       "        'Ветреница нежная, Анемоноидес нежный, Ветреничка нежная, Ветреничка приятная']],\n",
       "      dtype=object)"
      ]
     },
     "execution_count": 161,
     "metadata": {},
     "output_type": "execute_result"
    }
   ],
   "source": [
    "# тест функций\n",
    "redbook = get_redbook('/page/redbook/id/322.html')\n",
    "redbook[:5]"
   ]
  },
  {
   "cell_type": "code",
   "execution_count": 162,
   "metadata": {},
   "outputs": [
    {
     "data": {
      "text/plain": [
       "2"
      ]
     },
     "execution_count": 162,
     "metadata": {},
     "output_type": "execute_result"
    }
   ],
   "source": [
    "# тест функций\n",
    "book_id = select_book_id('/page/redbook/id/322.html')\n",
    "book_id"
   ]
  },
  {
   "cell_type": "code",
   "execution_count": 163,
   "metadata": {},
   "outputs": [
    {
     "data": {
      "text/plain": [
       "('Anaptychia crinalis (Schleich.) Vězda', 'Анаптихия волосовидная')"
      ]
     },
     "execution_count": 163,
     "metadata": {},
     "output_type": "execute_result"
    }
   ],
   "source": [
    "# тест функций\n",
    "plant_lat_name, plant_ru_names = redbook[2]\n",
    "plant_lat_name, plant_ru_names"
   ]
  },
  {
   "cell_type": "code",
   "execution_count": 169,
   "metadata": {},
   "outputs": [
    {
     "ename": "IntegrityError",
     "evalue": "UNIQUE constraint failed: plant_lat.plant_lat_name",
     "output_type": "error",
     "traceback": [
      "\u001b[1;31m---------------------------------------------------------------------------\u001b[0m",
      "\u001b[1;31mIntegrityError\u001b[0m                            Traceback (most recent call last)",
      "Cell \u001b[1;32mIn[169], line 2\u001b[0m\n\u001b[0;32m      1\u001b[0m \u001b[39m# тест функций\u001b[39;00m\n\u001b[1;32m----> 2\u001b[0m insetr_plant_lat(plant_lat_name)\n",
      "Cell \u001b[1;32mIn[151], line 6\u001b[0m, in \u001b[0;36minsetr_plant_lat\u001b[1;34m(plant_lat_name)\u001b[0m\n\u001b[0;32m      2\u001b[0m \u001b[39mdef\u001b[39;00m \u001b[39minsetr_plant_lat\u001b[39m(plant_lat_name:\u001b[39mstr\u001b[39m) \u001b[39m-\u001b[39m\u001b[39m>\u001b[39m \u001b[39mNone\u001b[39;00m:\n\u001b[0;32m      4\u001b[0m \u001b[39m    \u001b[39m\u001b[39m\"\"\" функция записи данных по растениям \"\"\"\u001b[39;00m\n\u001b[1;32m----> 6\u001b[0m     cursor\u001b[39m.\u001b[39;49mexecute(\u001b[39m\"\"\"\u001b[39;49m\u001b[39mINSERT INTO plant_lat (plant_lat_name)\u001b[39;49m\n\u001b[0;32m      7\u001b[0m \u001b[39m                      VALUES(?);\u001b[39;49m\u001b[39m\"\"\"\u001b[39;49m, (plant_lat_name,))\n\u001b[0;32m      8\u001b[0m     connection\u001b[39m.\u001b[39mcommit()\n",
      "\u001b[1;31mIntegrityError\u001b[0m: UNIQUE constraint failed: plant_lat.plant_lat_name"
     ]
    }
   ],
   "source": [
    "# тест функций\n",
    "insetr_plant_lat(plant_lat_name)"
   ]
  },
  {
   "cell_type": "code",
   "execution_count": null,
   "metadata": {},
   "outputs": [],
   "source": [
    "# тест функций\n",
    "plant_lat_id = select_plant_lat_id(plant_lat_name)\n",
    "plant_lat_id"
   ]
  },
  {
   "cell_type": "code",
   "execution_count": null,
   "metadata": {},
   "outputs": [],
   "source": [
    "# тест функций\n",
    "insetr_plant_ru(plant_ru_names, plant_lat_id)"
   ]
  },
  {
   "cell_type": "code",
   "execution_count": null,
   "metadata": {},
   "outputs": [],
   "source": [
    "# тест функций\n",
    "plant_ru_id = select_plant_ru_id(plant_ru_names)\n",
    "plant_ru_id"
   ]
  },
  {
   "cell_type": "code",
   "execution_count": null,
   "metadata": {},
   "outputs": [],
   "source": [
    "# тест функций\n",
    "insetr_redbooks(book_id, plant_ru_id, plant_lat_id)"
   ]
  },
  {
   "cell_type": "code",
   "execution_count": null,
   "metadata": {},
   "outputs": [],
   "source": [
    "# тест функций\n",
    "cursor.execute(\"\"\"SELECT *\n",
    "                    FROM redbooks;\"\"\")\n",
    "    \n",
    "cursor.fetchall()"
   ]
  },
  {
   "cell_type": "code",
   "execution_count": null,
   "metadata": {},
   "outputs": [],
   "source": [
    "%%time\n",
    "# сбор данных по растениям и запись в базу данных\n",
    "for href in list_table:\n",
    "    redbook = get_redbook(href)\n",
    "    book_id = select_book_id(href)\n",
    "    for plant_lat_name, plant_ru_names in redbook:\n",
    "        plant_ru_names = str(plant_ru_names)\n",
    "        try:\n",
    "            insetr_plant_lat(plant_lat_name)\n",
    "            plant_lat_id = select_plant_lat_id(plant_lat_name)\n",
    "        except:\n",
    "            plant_lat_id = select_plant_lat_id(plant_lat_name)\n",
    "        if len(plant_ru_names.split(',')) > 1:\n",
    "            plant_ru_names = plant_ru_names.split(',')\n",
    "            for plant_ru_name in plant_ru_names:\n",
    "                try:\n",
    "                    insetr_plant_ru(plant_ru_name, plant_lat_id)\n",
    "                    plant_ru_id = select_plant_ru_id(plant_ru_name)\n",
    "                except:\n",
    "                    plant_ru_id = select_plant_ru_id(plant_ru_name)\n",
    "                finally:\n",
    "                    insetr_redbooks(book_id, plant_ru_id, plant_lat_id)    \n",
    "        else:\n",
    "            try:\n",
    "                insetr_plant_ru(plant_ru_names, plant_lat_id)\n",
    "                plant_ru_id = select_plant_ru_id(plant_ru_names)\n",
    "            except:\n",
    "                plant_ru_id = select_plant_ru_id(plant_ru_names)\n",
    "            finally:\n",
    "                insetr_redbooks(book_id, plant_ru_id, plant_lat_id)"
   ]
  },
  {
   "cell_type": "code",
   "execution_count": null,
   "metadata": {},
   "outputs": [],
   "source": []
  },
  {
   "cell_type": "code",
   "execution_count": null,
   "metadata": {},
   "outputs": [],
   "source": [
    "redbook[[2, 3]].head()"
   ]
  },
  {
   "cell_type": "code",
   "execution_count": null,
   "metadata": {},
   "outputs": [],
   "source": [
    "* book_id - id книги\n",
    "* book_name - наименование книги (источник)\n",
    "* book_year - год книги\n",
    "* book_web - веб сайт книги\n",
    "* book_href - ссылка на содержание книги\n",
    "* region_id - id наименования региона"
   ]
  }
 ],
 "metadata": {
  "kernelspec": {
   "display_name": "venv",
   "language": "python",
   "name": "python3"
  },
  "language_info": {
   "codemirror_mode": {
    "name": "ipython",
    "version": 3
   },
   "file_extension": ".py",
   "mimetype": "text/x-python",
   "name": "python",
   "nbconvert_exporter": "python",
   "pygments_lexer": "ipython3",
   "version": "3.11.3"
  },
  "orig_nbformat": 4
 },
 "nbformat": 4,
 "nbformat_minor": 2
}
