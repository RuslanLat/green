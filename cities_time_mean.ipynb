{
 "cells": [
  {
   "cell_type": "code",
   "execution_count": 1,
   "metadata": {},
   "outputs": [],
   "source": [
    "import pandas as pd"
   ]
  },
  {
   "cell_type": "code",
   "execution_count": 3,
   "metadata": {},
   "outputs": [
    {
     "data": {
      "text/html": [
       "<div>\n",
       "<style scoped>\n",
       "    .dataframe tbody tr th:only-of-type {\n",
       "        vertical-align: middle;\n",
       "    }\n",
       "\n",
       "    .dataframe tbody tr th {\n",
       "        vertical-align: top;\n",
       "    }\n",
       "\n",
       "    .dataframe thead th {\n",
       "        text-align: right;\n",
       "    }\n",
       "</style>\n",
       "<table border=\"1\" class=\"dataframe\">\n",
       "  <thead>\n",
       "    <tr style=\"text-align: right;\">\n",
       "      <th></th>\n",
       "      <th>city</th>\n",
       "      <th>year</th>\n",
       "      <th>month</th>\n",
       "      <th>time_mean</th>\n",
       "    </tr>\n",
       "  </thead>\n",
       "  <tbody>\n",
       "    <tr>\n",
       "      <th>0</th>\n",
       "      <td>барнаул</td>\n",
       "      <td>2024</td>\n",
       "      <td>Январь</td>\n",
       "      <td>2023-05-20 07:49:02.064515840</td>\n",
       "    </tr>\n",
       "    <tr>\n",
       "      <th>1</th>\n",
       "      <td>барнаул</td>\n",
       "      <td>2024</td>\n",
       "      <td>Февраль</td>\n",
       "      <td>2023-05-20 09:41:53.827586304</td>\n",
       "    </tr>\n",
       "    <tr>\n",
       "      <th>2</th>\n",
       "      <td>барнаул</td>\n",
       "      <td>2024</td>\n",
       "      <td>Март</td>\n",
       "      <td>2023-05-20 11:58:22.806451968</td>\n",
       "    </tr>\n",
       "    <tr>\n",
       "      <th>3</th>\n",
       "      <td>барнаул</td>\n",
       "      <td>2024</td>\n",
       "      <td>Апрель</td>\n",
       "      <td>2023-05-20 14:18:32.299999744</td>\n",
       "    </tr>\n",
       "    <tr>\n",
       "      <th>4</th>\n",
       "      <td>барнаул</td>\n",
       "      <td>2024</td>\n",
       "      <td>Май</td>\n",
       "      <td>2023-05-20 16:24:08.032258048</td>\n",
       "    </tr>\n",
       "  </tbody>\n",
       "</table>\n",
       "</div>"
      ],
      "text/plain": [
       "      city  year    month                      time_mean\n",
       "0  барнаул  2024   Январь  2023-05-20 07:49:02.064515840\n",
       "1  барнаул  2024  Февраль  2023-05-20 09:41:53.827586304\n",
       "2  барнаул  2024     Март  2023-05-20 11:58:22.806451968\n",
       "3  барнаул  2024   Апрель  2023-05-20 14:18:32.299999744\n",
       "4  барнаул  2024      Май  2023-05-20 16:24:08.032258048"
      ]
     },
     "execution_count": 3,
     "metadata": {},
     "output_type": "execute_result"
    }
   ],
   "source": [
    "cities_time = pd.read_csv(\"data/cities_time_mean.csv\")\n",
    "cities_time.head()"
   ]
  },
  {
   "cell_type": "code",
   "execution_count": 4,
   "metadata": {},
   "outputs": [
    {
     "data": {
      "text/plain": [
       "city         object\n",
       "year          int64\n",
       "month        object\n",
       "time_mean    object\n",
       "dtype: object"
      ]
     },
     "execution_count": 4,
     "metadata": {},
     "output_type": "execute_result"
    }
   ],
   "source": [
    "cities_time.dtypes"
   ]
  },
  {
   "cell_type": "code",
   "execution_count": 6,
   "metadata": {},
   "outputs": [],
   "source": [
    "cities_time[\"time_mean\"] = pd.to_datetime(cities_time[\"time_mean\"])"
   ]
  },
  {
   "cell_type": "code",
   "execution_count": 9,
   "metadata": {},
   "outputs": [],
   "source": [
    "cities_time[\"time_mean\"] = cities_time[\"time_mean\"].dt.time "
   ]
  },
  {
   "cell_type": "code",
   "execution_count": 10,
   "metadata": {},
   "outputs": [
    {
     "data": {
      "text/plain": [
       "Index(['city', 'year', 'month', 'time_mean'], dtype='object')"
      ]
     },
     "execution_count": 10,
     "metadata": {},
     "output_type": "execute_result"
    }
   ],
   "source": [
    "cities_time.columns"
   ]
  },
  {
   "cell_type": "code",
   "execution_count": 12,
   "metadata": {},
   "outputs": [],
   "source": [
    "colnames = [\"Наименование города\", \"Год\", \"Месяц\", \"Средняя продолжительность светового дня\"]"
   ]
  },
  {
   "cell_type": "code",
   "execution_count": 13,
   "metadata": {},
   "outputs": [],
   "source": [
    "cities_time.columns = colnames"
   ]
  },
  {
   "cell_type": "code",
   "execution_count": 14,
   "metadata": {},
   "outputs": [
    {
     "data": {
      "text/html": [
       "<div>\n",
       "<style scoped>\n",
       "    .dataframe tbody tr th:only-of-type {\n",
       "        vertical-align: middle;\n",
       "    }\n",
       "\n",
       "    .dataframe tbody tr th {\n",
       "        vertical-align: top;\n",
       "    }\n",
       "\n",
       "    .dataframe thead th {\n",
       "        text-align: right;\n",
       "    }\n",
       "</style>\n",
       "<table border=\"1\" class=\"dataframe\">\n",
       "  <thead>\n",
       "    <tr style=\"text-align: right;\">\n",
       "      <th></th>\n",
       "      <th>Наименование города</th>\n",
       "      <th>Год</th>\n",
       "      <th>Месяц</th>\n",
       "      <th>Средняя продолжительность светового дня</th>\n",
       "    </tr>\n",
       "  </thead>\n",
       "  <tbody>\n",
       "    <tr>\n",
       "      <th>0</th>\n",
       "      <td>барнаул</td>\n",
       "      <td>2024</td>\n",
       "      <td>Январь</td>\n",
       "      <td>07:49:02.064515</td>\n",
       "    </tr>\n",
       "    <tr>\n",
       "      <th>1</th>\n",
       "      <td>барнаул</td>\n",
       "      <td>2024</td>\n",
       "      <td>Февраль</td>\n",
       "      <td>09:41:53.827586</td>\n",
       "    </tr>\n",
       "    <tr>\n",
       "      <th>2</th>\n",
       "      <td>барнаул</td>\n",
       "      <td>2024</td>\n",
       "      <td>Март</td>\n",
       "      <td>11:58:22.806451</td>\n",
       "    </tr>\n",
       "    <tr>\n",
       "      <th>3</th>\n",
       "      <td>барнаул</td>\n",
       "      <td>2024</td>\n",
       "      <td>Апрель</td>\n",
       "      <td>14:18:32.299999</td>\n",
       "    </tr>\n",
       "    <tr>\n",
       "      <th>4</th>\n",
       "      <td>барнаул</td>\n",
       "      <td>2024</td>\n",
       "      <td>Май</td>\n",
       "      <td>16:24:08.032258</td>\n",
       "    </tr>\n",
       "  </tbody>\n",
       "</table>\n",
       "</div>"
      ],
      "text/plain": [
       "  Наименование города   Год    Месяц Средняя продолжительность светового дня\n",
       "0             барнаул  2024   Январь                         07:49:02.064515\n",
       "1             барнаул  2024  Февраль                         09:41:53.827586\n",
       "2             барнаул  2024     Март                         11:58:22.806451\n",
       "3             барнаул  2024   Апрель                         14:18:32.299999\n",
       "4             барнаул  2024      Май                         16:24:08.032258"
      ]
     },
     "execution_count": 14,
     "metadata": {},
     "output_type": "execute_result"
    }
   ],
   "source": [
    "cities_time.head()"
   ]
  },
  {
   "cell_type": "code",
   "execution_count": 16,
   "metadata": {},
   "outputs": [],
   "source": [
    "cities_time[\"Наименование города\"] = cities_time[\"Наименование города\"].apply(lambda x: x.title())"
   ]
  },
  {
   "cell_type": "code",
   "execution_count": 18,
   "metadata": {},
   "outputs": [
    {
     "data": {
      "text/plain": [
       "array([2024], dtype=int64)"
      ]
     },
     "execution_count": 18,
     "metadata": {},
     "output_type": "execute_result"
    }
   ],
   "source": [
    "cities_time[\"Год\"].unique()"
   ]
  },
  {
   "cell_type": "code",
   "execution_count": 21,
   "metadata": {},
   "outputs": [],
   "source": [
    "cities_time = cities_time[[\"Наименование города\", \"Месяц\", \"Средняя продолжительность светового дня\"]]"
   ]
  },
  {
   "cell_type": "code",
   "execution_count": 22,
   "metadata": {},
   "outputs": [],
   "source": [
    "cities_time.to_csv(\"data/cities_time.csv\", index=False)"
   ]
  }
 ],
 "metadata": {
  "kernelspec": {
   "display_name": "venv",
   "language": "python",
   "name": "python3"
  },
  "language_info": {
   "codemirror_mode": {
    "name": "ipython",
    "version": 3
   },
   "file_extension": ".py",
   "mimetype": "text/x-python",
   "name": "python",
   "nbconvert_exporter": "python",
   "pygments_lexer": "ipython3",
   "version": "3.11.3"
  },
  "orig_nbformat": 4
 },
 "nbformat": 4,
 "nbformat_minor": 2
}
