{
 "cells": [
  {
   "cell_type": "code",
   "execution_count": 1,
   "metadata": {},
   "outputs": [],
   "source": [
    "import pandas as pd"
   ]
  },
  {
   "cell_type": "code",
   "execution_count": 3,
   "metadata": {},
   "outputs": [
    {
     "data": {
      "text/html": [
       "<div>\n",
       "<style scoped>\n",
       "    .dataframe tbody tr th:only-of-type {\n",
       "        vertical-align: middle;\n",
       "    }\n",
       "\n",
       "    .dataframe tbody tr th {\n",
       "        vertical-align: top;\n",
       "    }\n",
       "\n",
       "    .dataframe thead th {\n",
       "        text-align: right;\n",
       "    }\n",
       "</style>\n",
       "<table border=\"1\" class=\"dataframe\">\n",
       "  <thead>\n",
       "    <tr style=\"text-align: right;\">\n",
       "      <th></th>\n",
       "      <th>flower_name</th>\n",
       "      <th>desc</th>\n",
       "      <th>arial</th>\n",
       "      <th>eco</th>\n",
       "      <th>resursi</th>\n",
       "    </tr>\n",
       "  </thead>\n",
       "  <tbody>\n",
       "    <tr>\n",
       "      <th>0</th>\n",
       "      <td>АДЕНОСТИЛЕС РОМБОЛИСТНЫЙ</td>\n",
       "      <td>Описание. Травянистый многолетник высотой 50-1...</td>\n",
       "      <td>Ареал. Аденостилес ромболистный – эндемик Кавк...</td>\n",
       "      <td>NaN</td>\n",
       "      <td>NaN</td>\n",
       "    </tr>\n",
       "    <tr>\n",
       "      <th>1</th>\n",
       "      <td>АИР ОБЫКНОВЕННЫЙ</td>\n",
       "      <td>Описание. Многолетнее травянистое однодольное ...</td>\n",
       "      <td>NaN</td>\n",
       "      <td>NaN</td>\n",
       "      <td>NaN</td>\n",
       "    </tr>\n",
       "    <tr>\n",
       "      <th>2</th>\n",
       "      <td>АЛОЭ ДРЕВОВИДНОЕ</td>\n",
       "      <td>Описание. Суккулентный кустарник высотой до 5 ...</td>\n",
       "      <td>NaN</td>\n",
       "      <td>NaN</td>\n",
       "      <td>Ресурсы. В России нет дикорастущего алоэ. В на...</td>\n",
       "    </tr>\n",
       "    <tr>\n",
       "      <th>3</th>\n",
       "      <td>АЛТЕЙ ЛЕКАРСТВЕННЫЙ</td>\n",
       "      <td>Описание. Многолетнее серовато-зеленое травя -...</td>\n",
       "      <td>Ареал. Алтей лекарственный имеет дизъюнктив - ...</td>\n",
       "      <td>NaN</td>\n",
       "      <td>NaN</td>\n",
       "    </tr>\n",
       "    <tr>\n",
       "      <th>4</th>\n",
       "      <td>АММИ БОЛЬШАЯ</td>\n",
       "      <td>Описание. Однолетнее или двулетнее травянистое...</td>\n",
       "      <td>NaN</td>\n",
       "      <td>NaN</td>\n",
       "      <td>Ресурсы. Годовая потребность населения России ...</td>\n",
       "    </tr>\n",
       "  </tbody>\n",
       "</table>\n",
       "</div>"
      ],
      "text/plain": [
       "                flower_name   \n",
       "0  АДЕНОСТИЛЕС РОМБОЛИСТНЫЙ  \\\n",
       "1          АИР ОБЫКНОВЕННЫЙ   \n",
       "2          АЛОЭ ДРЕВОВИДНОЕ   \n",
       "3       АЛТЕЙ ЛЕКАРСТВЕННЫЙ   \n",
       "4              АММИ БОЛЬШАЯ   \n",
       "\n",
       "                                                desc   \n",
       "0  Описание. Травянистый многолетник высотой 50-1...  \\\n",
       "1  Описание. Многолетнее травянистое однодольное ...   \n",
       "2  Описание. Суккулентный кустарник высотой до 5 ...   \n",
       "3  Описание. Многолетнее серовато-зеленое травя -...   \n",
       "4  Описание. Однолетнее или двулетнее травянистое...   \n",
       "\n",
       "                                               arial  eco   \n",
       "0  Ареал. Аденостилес ромболистный – эндемик Кавк...  NaN  \\\n",
       "1                                                NaN  NaN   \n",
       "2                                                NaN  NaN   \n",
       "3  Ареал. Алтей лекарственный имеет дизъюнктив - ...  NaN   \n",
       "4                                                NaN  NaN   \n",
       "\n",
       "                                             resursi  \n",
       "0                                                NaN  \n",
       "1                                                NaN  \n",
       "2  Ресурсы. В России нет дикорастущего алоэ. В на...  \n",
       "3                                                NaN  \n",
       "4  Ресурсы. Годовая потребность населения России ...  "
      ]
     },
     "execution_count": 3,
     "metadata": {},
     "output_type": "execute_result"
    }
   ],
   "source": [
    "flowers_df = pd.read_csv(\"data/flowers.csv\")\n",
    "flowers_df.head()"
   ]
  },
  {
   "cell_type": "code",
   "execution_count": 4,
   "metadata": {},
   "outputs": [
    {
     "data": {
      "text/plain": [
       "flower_name      0\n",
       "desc           124\n",
       "arial          135\n",
       "eco            145\n",
       "resursi        176\n",
       "dtype: int64"
      ]
     },
     "execution_count": 4,
     "metadata": {},
     "output_type": "execute_result"
    }
   ],
   "source": [
    "flowers_df.isna().sum()"
   ]
  },
  {
   "cell_type": "code",
   "execution_count": 5,
   "metadata": {},
   "outputs": [
    {
     "data": {
      "text/plain": [
       "(195, 5)"
      ]
     },
     "execution_count": 5,
     "metadata": {},
     "output_type": "execute_result"
    }
   ],
   "source": [
    "flowers_df.shape"
   ]
  },
  {
   "cell_type": "code",
   "execution_count": 6,
   "metadata": {},
   "outputs": [],
   "source": [
    "flowers_df = flowers_df.fillna(\"данные уточняются\")"
   ]
  },
  {
   "cell_type": "code",
   "execution_count": 8,
   "metadata": {},
   "outputs": [
    {
     "data": {
      "text/plain": [
       "Index(['flower_name', 'desc', 'arial', 'eco', 'resursi'], dtype='object')"
      ]
     },
     "execution_count": 8,
     "metadata": {},
     "output_type": "execute_result"
    }
   ],
   "source": [
    "flowers_df.columns"
   ]
  },
  {
   "cell_type": "code",
   "execution_count": 10,
   "metadata": {},
   "outputs": [],
   "source": [
    "colnames = [\"Название растения RU\", \"Описание растения\",\n",
    "            \"Ариал произростания\", \"Экология растения\", \"Ресурсы\"]"
   ]
  },
  {
   "cell_type": "code",
   "execution_count": 11,
   "metadata": {},
   "outputs": [],
   "source": [
    "flowers_df.columns = colnames"
   ]
  },
  {
   "cell_type": "code",
   "execution_count": 12,
   "metadata": {},
   "outputs": [
    {
     "data": {
      "text/html": [
       "<div>\n",
       "<style scoped>\n",
       "    .dataframe tbody tr th:only-of-type {\n",
       "        vertical-align: middle;\n",
       "    }\n",
       "\n",
       "    .dataframe tbody tr th {\n",
       "        vertical-align: top;\n",
       "    }\n",
       "\n",
       "    .dataframe thead th {\n",
       "        text-align: right;\n",
       "    }\n",
       "</style>\n",
       "<table border=\"1\" class=\"dataframe\">\n",
       "  <thead>\n",
       "    <tr style=\"text-align: right;\">\n",
       "      <th></th>\n",
       "      <th>Название растения RU</th>\n",
       "      <th>Описание растения</th>\n",
       "      <th>Ариал произростания</th>\n",
       "      <th>Экология растения</th>\n",
       "      <th>Ресурсы</th>\n",
       "    </tr>\n",
       "  </thead>\n",
       "  <tbody>\n",
       "    <tr>\n",
       "      <th>0</th>\n",
       "      <td>АДЕНОСТИЛЕС РОМБОЛИСТНЫЙ</td>\n",
       "      <td>Описание. Травянистый многолетник высотой 50-1...</td>\n",
       "      <td>Ареал. Аденостилес ромболистный – эндемик Кавк...</td>\n",
       "      <td>данные уточняются</td>\n",
       "      <td>данные уточняются</td>\n",
       "    </tr>\n",
       "    <tr>\n",
       "      <th>1</th>\n",
       "      <td>АИР ОБЫКНОВЕННЫЙ</td>\n",
       "      <td>Описание. Многолетнее травянистое однодольное ...</td>\n",
       "      <td>данные уточняются</td>\n",
       "      <td>данные уточняются</td>\n",
       "      <td>данные уточняются</td>\n",
       "    </tr>\n",
       "    <tr>\n",
       "      <th>2</th>\n",
       "      <td>АЛОЭ ДРЕВОВИДНОЕ</td>\n",
       "      <td>Описание. Суккулентный кустарник высотой до 5 ...</td>\n",
       "      <td>данные уточняются</td>\n",
       "      <td>данные уточняются</td>\n",
       "      <td>Ресурсы. В России нет дикорастущего алоэ. В на...</td>\n",
       "    </tr>\n",
       "    <tr>\n",
       "      <th>3</th>\n",
       "      <td>АЛТЕЙ ЛЕКАРСТВЕННЫЙ</td>\n",
       "      <td>Описание. Многолетнее серовато-зеленое травя -...</td>\n",
       "      <td>Ареал. Алтей лекарственный имеет дизъюнктив - ...</td>\n",
       "      <td>данные уточняются</td>\n",
       "      <td>данные уточняются</td>\n",
       "    </tr>\n",
       "    <tr>\n",
       "      <th>4</th>\n",
       "      <td>АММИ БОЛЬШАЯ</td>\n",
       "      <td>Описание. Однолетнее или двулетнее травянистое...</td>\n",
       "      <td>данные уточняются</td>\n",
       "      <td>данные уточняются</td>\n",
       "      <td>Ресурсы. Годовая потребность населения России ...</td>\n",
       "    </tr>\n",
       "  </tbody>\n",
       "</table>\n",
       "</div>"
      ],
      "text/plain": [
       "       Название растения RU   \n",
       "0  АДЕНОСТИЛЕС РОМБОЛИСТНЫЙ  \\\n",
       "1          АИР ОБЫКНОВЕННЫЙ   \n",
       "2          АЛОЭ ДРЕВОВИДНОЕ   \n",
       "3       АЛТЕЙ ЛЕКАРСТВЕННЫЙ   \n",
       "4              АММИ БОЛЬШАЯ   \n",
       "\n",
       "                                   Описание растения   \n",
       "0  Описание. Травянистый многолетник высотой 50-1...  \\\n",
       "1  Описание. Многолетнее травянистое однодольное ...   \n",
       "2  Описание. Суккулентный кустарник высотой до 5 ...   \n",
       "3  Описание. Многолетнее серовато-зеленое травя -...   \n",
       "4  Описание. Однолетнее или двулетнее травянистое...   \n",
       "\n",
       "                                 Ариал произростания  Экология растения   \n",
       "0  Ареал. Аденостилес ромболистный – эндемик Кавк...  данные уточняются  \\\n",
       "1                                  данные уточняются  данные уточняются   \n",
       "2                                  данные уточняются  данные уточняются   \n",
       "3  Ареал. Алтей лекарственный имеет дизъюнктив - ...  данные уточняются   \n",
       "4                                  данные уточняются  данные уточняются   \n",
       "\n",
       "                                             Ресурсы  \n",
       "0                                  данные уточняются  \n",
       "1                                  данные уточняются  \n",
       "2  Ресурсы. В России нет дикорастущего алоэ. В на...  \n",
       "3                                  данные уточняются  \n",
       "4  Ресурсы. Годовая потребность населения России ...  "
      ]
     },
     "execution_count": 12,
     "metadata": {},
     "output_type": "execute_result"
    }
   ],
   "source": [
    "flowers_df.head()"
   ]
  },
  {
   "cell_type": "code",
   "execution_count": 13,
   "metadata": {},
   "outputs": [],
   "source": [
    "flowers_df.to_csv(\"data/flowers_df.csv\", index=False)"
   ]
  }
 ],
 "metadata": {
  "kernelspec": {
   "display_name": "venv",
   "language": "python",
   "name": "python3"
  },
  "language_info": {
   "codemirror_mode": {
    "name": "ipython",
    "version": 3
   },
   "file_extension": ".py",
   "mimetype": "text/x-python",
   "name": "python",
   "nbconvert_exporter": "python",
   "pygments_lexer": "ipython3",
   "version": "3.11.3"
  },
  "orig_nbformat": 4
 },
 "nbformat": 4,
 "nbformat_minor": 2
}
